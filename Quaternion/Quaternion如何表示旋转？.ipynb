{
 "cells": [
  {
   "cell_type": "code",
   "execution_count": 1,
   "id": "e31e6734",
   "metadata": {},
   "outputs": [],
   "source": [
    "import Quaternion\n",
    "import numpy as np"
   ]
  },
  {
   "cell_type": "code",
   "execution_count": null,
   "id": "5cb0402c",
   "metadata": {},
   "outputs": [],
   "source": [
    "q1 = Quaternion.from_vector_angle([1, 1, 1], np.pi / 4)\n",
    "v1 = np.random.rand(3)"
   ]
  },
  {
   "cell_type": "markdown",
   "id": "d892e0f1",
   "metadata": {},
   "source": []
  },
  {
   "cell_type": "markdown",
   "id": "55dccf52",
   "metadata": {},
   "source": [
    "本文参考内容大部分来自B站小豆8593与3Blue1Brown的视频及网站：\n",
    "1. [四元数如何控制物体旋转？](https://www.bilibili.com/video/BV14t421h7M4/?spm_id_from=333.337.search-card.all.click&vd_source=06a2a48c8f688cef83a28fe82c6c55aa)\n",
    "2. [四元数的可视化](https://www.bilibili.com/video/BV1SW411y7W1/?spm_id_from=333.337.search-card.all.click&vd_source=06a2a48c8f688cef83a28fe82c6c55aa)\n",
    "3. [四元数与三维转动](https://www.bilibili.com/video/BV1Lt411U7og?spm_id_from=333.788.recommend_more_video.-1&vd_source=06a2a48c8f688cef83a28fe82c6c55aa)\n",
    "4. [(四元数互动网站)https://eater.net/quaternions](https://eater.net/quaternions)"
   ]
  },
  {
   "cell_type": "markdown",
   "id": "0887c810",
   "metadata": {},
   "source": []
  }
 ],
 "metadata": {
  "kernelspec": {
   "display_name": "py311env",
   "language": "python",
   "name": "python3"
  },
  "language_info": {
   "codemirror_mode": {
    "name": "ipython",
    "version": 3
   },
   "file_extension": ".py",
   "mimetype": "text/x-python",
   "name": "python",
   "nbconvert_exporter": "python",
   "pygments_lexer": "ipython3",
   "version": "3.11.13"
  }
 },
 "nbformat": 4,
 "nbformat_minor": 5
}
